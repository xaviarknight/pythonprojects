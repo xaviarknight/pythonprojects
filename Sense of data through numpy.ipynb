{
 "cells": [
  {
   "cell_type": "code",
   "execution_count": 15,
   "metadata": {},
   "outputs": [],
   "source": [
    "import numpy"
   ]
  },
  {
   "cell_type": "code",
   "execution_count": 17,
   "metadata": {},
   "outputs": [
    {
     "data": {
      "text/plain": [
       "array([[39., 13.,  4., ...,  0., 40.,  0.],\n",
       "       [50., 13.,  4., ...,  0., 13.,  0.],\n",
       "       [38.,  9.,  4., ...,  0., 40.,  0.],\n",
       "       ...,\n",
       "       [48., 13.,  4., ...,  0., 58.,  1.],\n",
       "       [40., 10.,  4., ...,  0., 40.,  0.],\n",
       "       [39., 13.,  4., ...,  0., 50.,  1.]])"
      ]
     },
     "execution_count": 17,
     "metadata": {},
     "output_type": "execute_result"
    }
   ],
   "source": [
    "data = np.genfromtxt(\"file.csv\",delimiter = \",\",skip_header = 1)\n",
    "data"
   ]
  },
  {
   "cell_type": "code",
   "execution_count": 18,
   "metadata": {},
   "outputs": [
    {
     "data": {
      "text/plain": [
       "(1000, 8)"
      ]
     },
     "execution_count": 18,
     "metadata": {},
     "output_type": "execute_result"
    }
   ],
   "source": [
    "data.shape"
   ]
  },
  {
   "cell_type": "code",
   "execution_count": 30,
   "metadata": {},
   "outputs": [],
   "source": [
    "new_record = [[50,9,4,1,0,0,40,0]]"
   ]
  },
  {
   "cell_type": "code",
   "execution_count": 33,
   "metadata": {},
   "outputs": [],
   "source": [
    "census = np.concatenate((data,new_record),axis = 0)"
   ]
  },
  {
   "cell_type": "code",
   "execution_count": null,
   "metadata": {},
   "outputs": [],
   "source": [
    "# age, education-num, race, sex, capital gain, capital- loss, hours per week, income"
   ]
  },
  {
   "cell_type": "code",
   "execution_count": 45,
   "metadata": {},
   "outputs": [],
   "source": [
    "age = census[:,0]\n",
    "age\n",
    "min_age = min(age)\n",
    "min_age\n",
    "max_age= max(age)\n",
    "age_mean  = numpy.average(age)"
   ]
  },
  {
   "cell_type": "code",
   "execution_count": 46,
   "metadata": {},
   "outputs": [
    {
     "data": {
      "text/plain": [
       "array([4., 4., 4., ..., 4., 4., 4.])"
      ]
     },
     "execution_count": 46,
     "metadata": {},
     "output_type": "execute_result"
    }
   ],
   "source": [
    "census[:,2]"
   ]
  },
  {
   "cell_type": "code",
   "execution_count": 47,
   "metadata": {},
   "outputs": [],
   "source": [
    "#Creating new subsets based on 'race'\n",
    "race_0=census[census[:,2]==0]\n",
    "race_1=census[census[:,2]==1]\n",
    "race_2=census[census[:,2]==2]\n",
    "race_3=census[census[:,2]==3]\n",
    "race_4=census[census[:,2]==4]\n"
   ]
  },
  {
   "cell_type": "code",
   "execution_count": 48,
   "metadata": {},
   "outputs": [
    {
     "data": {
      "text/plain": [
       "array([[34.,  4.,  0.,  1.,  0.,  0., 45.,  0.],\n",
       "       [35., 10.,  0.,  0.,  0.,  0., 40.,  0.],\n",
       "       [60.,  6.,  0.,  0.,  0.,  0., 10.,  0.],\n",
       "       [51.,  9.,  0.,  1.,  0.,  0., 40.,  0.],\n",
       "       [25., 10.,  0.,  0.,  0.,  0., 20.,  0.],\n",
       "       [20.,  9.,  0.,  1.,  0.,  0., 48.,  0.],\n",
       "       [23., 10.,  0.,  0.,  0.,  0., 25.,  0.],\n",
       "       [29.,  9.,  0.,  1.,  0.,  0., 40.,  0.],\n",
       "       [27., 12.,  0.,  1.,  0.,  0., 40.,  0.],\n",
       "       [31., 12.,  0.,  0.,  0.,  0., 40.,  0.]])"
      ]
     },
     "execution_count": 48,
     "metadata": {},
     "output_type": "execute_result"
    }
   ],
   "source": [
    "race_0"
   ]
  },
  {
   "cell_type": "code",
   "execution_count": 52,
   "metadata": {},
   "outputs": [
    {
     "name": "stdout",
     "output_type": "stream",
     "text": [
      "Race_0:  10\n",
      "Race_1:  27\n",
      "Race_2:  110\n",
      "Race_3:  6\n",
      "Race_4:  848\n"
     ]
    },
    {
     "data": {
      "text/plain": [
       "3"
      ]
     },
     "execution_count": 52,
     "metadata": {},
     "output_type": "execute_result"
    }
   ],
   "source": [
    "#Finding the length of the above created subsets\n",
    "len_0=len(race_0)\n",
    "len_1=len(race_1)\n",
    "len_2=len(race_2)\n",
    "len_3=len(race_3)\n",
    "len_4=len(race_4)\n",
    "\n",
    "#Printing the length of the above created subsets\n",
    "print('Race_0: ', len_0)\n",
    "print('Race_1: ', len_1)\n",
    "print('Race_2: ', len_2)\n",
    "print('Race_3: ', len_3)\n",
    "print('Race_4: ', len_4)\n",
    "\n",
    "#Storing the different race lengths with appropriate indexes\n",
    "race_list=[len_0, len_1,len_2, len_3, len_4]\n",
    "\n",
    "#Storing the race with minimum length into a variable \n",
    "minority_race=race_list.index(min(race_list))\n",
    "minority_race"
   ]
  },
  {
   "cell_type": "code",
   "execution_count": 53,
   "metadata": {},
   "outputs": [
    {
     "name": "stdout",
     "output_type": "stream",
     "text": [
      "31.42622950819672\n",
      "0.42813455657492355\n",
      "0.13649851632047477\n"
     ]
    }
   ],
   "source": [
    "#Subsetting the array based on the age \n",
    "senior_citizens=census[census[:,0]>60]\n",
    "#calculating sum\n",
    "working_hours_sum=senior_citizens.sum(axis=0)[6]\n",
    "senior_citizens_len=len(senior_citizens)\n",
    "avg_working_hours=working_hours_sum/senior_citizens_len\n",
    "print((avg_working_hours))\n",
    "\n",
    "#Creating an array based on 'education' column\n",
    "high=census[census[:,1]>10]\n",
    "avg_pay_high=high[:,7].mean()\n",
    "print(avg_pay_high)\n",
    "\n",
    "#Creating an array based on 'education' column\n",
    "low=census[census[:,1]<=10]\n",
    "avg_pay_low=low[:,7].mean()\n",
    "print(avg_pay_low)"
   ]
  },
  {
   "cell_type": "code",
   "execution_count": 56,
   "metadata": {},
   "outputs": [
    {
     "data": {
      "text/plain": [
       "31.42622950819672"
      ]
     },
     "execution_count": 56,
     "metadata": {},
     "output_type": "execute_result"
    }
   ],
   "source": [
    "numpy.average(senior_citizens[:,6])"
   ]
  }
 ],
 "metadata": {
  "kernelspec": {
   "display_name": "Python 3",
   "language": "python",
   "name": "python3"
  },
  "language_info": {
   "codemirror_mode": {
    "name": "ipython",
    "version": 3
   },
   "file_extension": ".py",
   "mimetype": "text/x-python",
   "name": "python",
   "nbconvert_exporter": "python",
   "pygments_lexer": "ipython3",
   "version": "3.8.3"
  }
 },
 "nbformat": 4,
 "nbformat_minor": 4
}
